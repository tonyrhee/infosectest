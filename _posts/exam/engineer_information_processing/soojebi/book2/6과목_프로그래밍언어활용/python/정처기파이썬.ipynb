{
  "nbformat": 4,
  "nbformat_minor": 0,
  "metadata": {
    "colab": {
      "provenance": [],
      "collapsed_sections": [
        "zXNlej-mmWzY"
      ]
    },
    "kernelspec": {
      "name": "python3",
      "display_name": "Python 3"
    },
    "language_info": {
      "name": "python"
    }
  },
  "cells": [
    {
      "cell_type": "code",
      "execution_count": null,
      "metadata": {
        "colab": {
          "base_uri": "https://localhost:8080/"
        },
        "id": "AsKeRw82awKn",
        "outputId": "5e940a43-20c4-4e12-c099-a902d45631ea"
      },
      "outputs": [
        {
          "output_type": "stream",
          "name": "stdout",
          "text": [
            "Mounted at /content/drive\n"
          ]
        }
      ],
      "source": [
        "from google.colab import drive\n",
        "drive.mount('/content/drive')"
      ]
    },
    {
      "cell_type": "markdown",
      "source": [
        "# 기초 개념 연습"
      ],
      "metadata": {
        "id": "zXNlej-mmWzY"
      }
    },
    {
      "cell_type": "markdown",
      "source": [
        "## List"
      ],
      "metadata": {
        "id": "T8TzlvPKd6nW"
      }
    },
    {
      "cell_type": "code",
      "source": [
        "l=[3,5,7]\n",
        "\n",
        "l.append(3)\n",
        "print(l)"
      ],
      "metadata": {
        "colab": {
          "base_uri": "https://localhost:8080/"
        },
        "id": "Woo279wka40K",
        "outputId": "7190c37d-d508-4b01-9809-2ad323c297fa"
      },
      "execution_count": null,
      "outputs": [
        {
          "output_type": "stream",
          "name": "stdout",
          "text": [
            "[3, 5, 7, 3]\n"
          ]
        }
      ]
    },
    {
      "cell_type": "code",
      "source": [
        "l.insert(2,4)\n",
        "print(l)"
      ],
      "metadata": {
        "colab": {
          "base_uri": "https://localhost:8080/"
        },
        "id": "IFsAy5QDdzuL",
        "outputId": "da36e125-d65d-4880-ca68-e74f1303b429"
      },
      "execution_count": null,
      "outputs": [
        {
          "output_type": "stream",
          "name": "stdout",
          "text": [
            "[3, 5, 4, 7, 3]\n"
          ]
        }
      ]
    },
    {
      "cell_type": "code",
      "source": [
        "l.remove(3)\n",
        "print(l)"
      ],
      "metadata": {
        "colab": {
          "base_uri": "https://localhost:8080/"
        },
        "id": "wd8wOYkCd2Z6",
        "outputId": "bb8e129f-495b-4813-e898-0a558776b916"
      },
      "execution_count": null,
      "outputs": [
        {
          "output_type": "stream",
          "name": "stdout",
          "text": [
            "[5, 4, 7, 3]\n"
          ]
        }
      ]
    },
    {
      "cell_type": "code",
      "source": [
        "print(l[:-1])"
      ],
      "metadata": {
        "colab": {
          "base_uri": "https://localhost:8080/"
        },
        "id": "WeOQTjDYd9M2",
        "outputId": "d044fd9d-8356-4d0f-9db6-1eb2e30ef3f1"
      },
      "execution_count": null,
      "outputs": [
        {
          "output_type": "stream",
          "name": "stdout",
          "text": [
            "[5, 4, 7]\n"
          ]
        }
      ]
    },
    {
      "cell_type": "code",
      "source": [
        "print(l[:2])"
      ],
      "metadata": {
        "colab": {
          "base_uri": "https://localhost:8080/"
        },
        "id": "WMm4WpUAd9O0",
        "outputId": "9b3bf565-4fa2-40df-e57f-1a4dd96840ce"
      },
      "execution_count": null,
      "outputs": [
        {
          "output_type": "stream",
          "name": "stdout",
          "text": [
            "[5, 4]\n"
          ]
        }
      ]
    },
    {
      "cell_type": "markdown",
      "source": [
        "## Tuple"
      ],
      "metadata": {
        "id": "tj-EMfrReUvn"
      }
    },
    {
      "cell_type": "code",
      "source": [
        "a=(4,2,3,7,5)"
      ],
      "metadata": {
        "id": "AyvHeObHeOsh"
      },
      "execution_count": null,
      "outputs": []
    },
    {
      "cell_type": "code",
      "source": [
        "a[0]"
      ],
      "metadata": {
        "colab": {
          "base_uri": "https://localhost:8080/"
        },
        "id": "UDfFh1iaeXAk",
        "outputId": "a37937d9-c7a9-40dc-b90a-a97e1c296b22"
      },
      "execution_count": null,
      "outputs": [
        {
          "output_type": "execute_result",
          "data": {
            "text/plain": [
              "4"
            ]
          },
          "metadata": {},
          "execution_count": 9
        }
      ]
    },
    {
      "cell_type": "code",
      "source": [
        "a[4]"
      ],
      "metadata": {
        "colab": {
          "base_uri": "https://localhost:8080/"
        },
        "id": "m3ziHm-1eXCn",
        "outputId": "47abc066-dcc7-4ee9-872b-7c138a524b0d"
      },
      "execution_count": null,
      "outputs": [
        {
          "output_type": "execute_result",
          "data": {
            "text/plain": [
              "5"
            ]
          },
          "metadata": {},
          "execution_count": 10
        }
      ]
    },
    {
      "cell_type": "code",
      "source": [
        "a[-1]"
      ],
      "metadata": {
        "colab": {
          "base_uri": "https://localhost:8080/"
        },
        "id": "pIo7eBmMeXE2",
        "outputId": "2c94ad15-d5df-4341-fd60-857b86811b45"
      },
      "execution_count": null,
      "outputs": [
        {
          "output_type": "execute_result",
          "data": {
            "text/plain": [
              "5"
            ]
          },
          "metadata": {},
          "execution_count": 11
        }
      ]
    },
    {
      "cell_type": "code",
      "source": [
        "a[:-1]"
      ],
      "metadata": {
        "colab": {
          "base_uri": "https://localhost:8080/"
        },
        "id": "FUpVK_LbeXG8",
        "outputId": "078483e3-4aaa-4e9f-9e4a-b3bb8a4b4abc"
      },
      "execution_count": null,
      "outputs": [
        {
          "output_type": "execute_result",
          "data": {
            "text/plain": [
              "(4, 2, 3, 7)"
            ]
          },
          "metadata": {},
          "execution_count": 12
        }
      ]
    },
    {
      "cell_type": "markdown",
      "source": [
        "# 정보처리기사 기출문제"
      ],
      "metadata": {
        "id": "kXA01B8Bmag-"
      }
    },
    {
      "cell_type": "markdown",
      "source": [
        "2020년 2회"
      ],
      "metadata": {
        "id": "FK-hAd8Be0fv"
      }
    },
    {
      "cell_type": "code",
      "source": [
        "a={'일본','중국','한국'}\n",
        "a.add('베트남')\n",
        "# 일본, 중국, 한국, 베트남 set\n",
        "\n",
        "a.add('중국')\n",
        "# 일본, 중국, 한국, 베트날\n",
        "\n",
        "a.remove('일본')\n",
        "# 중국, 한국, 베트남\n",
        "\n",
        "a.update({'홍콩','한국','태국'})\n",
        "# 중국 한국 베트남 홍콩 태국\n",
        "\n",
        "# 예상 답 \n",
        "print(a)"
      ],
      "metadata": {
        "colab": {
          "base_uri": "https://localhost:8080/"
        },
        "id": "W1Q9cOZYef-E",
        "outputId": "9d4270b2-06d0-4caa-d4c6-7b800f67f459"
      },
      "execution_count": null,
      "outputs": [
        {
          "output_type": "stream",
          "name": "stdout",
          "text": [
            "{'태국', '중국', '베트남', '한국', '홍콩'}\n"
          ]
        }
      ]
    },
    {
      "cell_type": "markdown",
      "source": [
        "- set은 순서가 없다."
      ],
      "metadata": {
        "id": "-pgx4-Y1jSKF"
      }
    },
    {
      "cell_type": "markdown",
      "source": [
        "2020년 4회"
      ],
      "metadata": {
        "id": "ZFI8-jlyjOSG"
      }
    },
    {
      "cell_type": "code",
      "source": [
        "lol=[[1,2,3],[4,5],[6,7,8,9]]\n",
        "print(lol[0])\n",
        "# [1,2,3]\n",
        "\n",
        "print(lol[2][1])\n",
        "# 7\n",
        "\n",
        "for sub in lol:\n",
        "    for item in sub:\n",
        "        print(item, end=\"\")\n",
        "    print()"
      ],
      "metadata": {
        "colab": {
          "base_uri": "https://localhost:8080/"
        },
        "id": "KMwehUYeeurt",
        "outputId": "26ee5075-4a76-481b-ea83-d092fa82fcbd"
      },
      "execution_count": null,
      "outputs": [
        {
          "output_type": "stream",
          "name": "stdout",
          "text": [
            "[1, 2, 3]\n",
            "7\n",
            "123\n",
            "45\n",
            "6789\n"
          ]
        }
      ]
    },
    {
      "cell_type": "markdown",
      "source": [
        "2021년 1회"
      ],
      "metadata": {
        "id": "9nJwat8uk4r2"
      }
    },
    {
      "cell_type": "code",
      "source": [
        "class Soojebi:\n",
        "    li=[\"Seoul\",\"Kyeonggi\",\"Incheon\",\"Daejeon\",\"Daegu\",\"Pusan\"]\n",
        "\n",
        "s=Soojebi()\n",
        "str01=''\n",
        "\n",
        "for i in s.li:\n",
        "    # i : Seoul\n",
        "    str01=str01+i[0]\n",
        "    # i[0] : S\n",
        "\n",
        "# SKIDDP\n",
        "print(str01)"
      ],
      "metadata": {
        "colab": {
          "base_uri": "https://localhost:8080/"
        },
        "id": "VT-Wz3vkeuuE",
        "outputId": "5a56dbcc-52ab-489f-899c-31446f4616a7"
      },
      "execution_count": null,
      "outputs": [
        {
          "output_type": "stream",
          "name": "stdout",
          "text": [
            "SKIDDP\n"
          ]
        }
      ]
    },
    {
      "cell_type": "markdown",
      "source": [
        "21년 3회"
      ],
      "metadata": {
        "id": "Kg7IdcCImMeI"
      }
    },
    {
      "cell_type": "code",
      "source": [
        "a, b=100, 200\n",
        "\n",
        "# False\n",
        "print(a==b)"
      ],
      "metadata": {
        "colab": {
          "base_uri": "https://localhost:8080/"
        },
        "id": "SO4mySM6euwV",
        "outputId": "594f2b95-ea65-48bf-d30d-94cca2e237c1"
      },
      "execution_count": null,
      "outputs": [
        {
          "output_type": "stream",
          "name": "stdout",
          "text": [
            "False\n"
          ]
        }
      ]
    },
    {
      "cell_type": "markdown",
      "source": [
        "21년 2회"
      ],
      "metadata": {
        "id": "M0xRmJWUyXUX"
      }
    },
    {
      "cell_type": "code",
      "source": [
        "a=100\n",
        "i=0\n",
        "result=0\n",
        "\n",
        "for i in range(1,3):\n",
        "    print(f'{i}번째 -> result : {result}, a : {a}')\n",
        "    result = a >> i\n",
        "    print(f'result = {a} >> {i} -> result : {result}')\n",
        "    result += 1\n",
        "    print(f'result += 1 -> : {result}')\n",
        "\n",
        "# 100 >> 1 : 50\n",
        "# result 51\n",
        "\n",
        "# 100 >>  2 : 25\n",
        "# result 26\n",
        "print(result)"
      ],
      "metadata": {
        "colab": {
          "base_uri": "https://localhost:8080/"
        },
        "id": "i9MAzi17yWQ_",
        "outputId": "18c81a11-c94e-46b0-836b-6a8f1d0061b6"
      },
      "execution_count": null,
      "outputs": [
        {
          "output_type": "stream",
          "name": "stdout",
          "text": [
            "1번째 -> result : 0, a : 100\n",
            "result = 100 >> 1 -> result : 50\n",
            "result += 1 -> : 51\n",
            "2번째 -> result : 51, a : 100\n",
            "result = 100 >> 2 -> result : 25\n",
            "result += 1 -> : 26\n",
            "26\n"
          ]
        }
      ]
    }
  ]
}